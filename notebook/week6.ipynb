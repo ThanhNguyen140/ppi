{
 "cells": [
  {
   "cell_type": "markdown",
   "metadata": {},
   "source": [
    "# Homework week6\n",
    "## Author: Phuong Thanh Nguyen"
   ]
  },
  {
   "cell_type": "code",
   "execution_count": 22,
   "metadata": {},
   "outputs": [],
   "source": [
    "# Import packages and paths\n",
    "from ppi.database import Database\n",
    "import os\n",
    "import pandas as pd\n",
    "from sqlalchemy import create_engine\n",
    "HOME = os.path.expanduser(\"~\")\n",
    "PROJECT_FOLDER = os.path.join(HOME, \".ppi\")\n",
    "DB_PATH = os.path.join(PROJECT_FOLDER, \"ppi.sqlite\")\n",
    "conn = create_engine(f\"sqlite:///{DB_PATH}\")"
   ]
  },
  {
   "cell_type": "markdown",
   "metadata": {},
   "source": [
    "### 1. Read data"
   ]
  },
  {
   "cell_type": "code",
   "execution_count": 7,
   "metadata": {},
   "outputs": [
    {
     "data": {
      "text/html": [
       "<div>\n",
       "<style scoped>\n",
       "    .dataframe tbody tr th:only-of-type {\n",
       "        vertical-align: middle;\n",
       "    }\n",
       "\n",
       "    .dataframe tbody tr th {\n",
       "        vertical-align: top;\n",
       "    }\n",
       "\n",
       "    .dataframe thead th {\n",
       "        text-align: right;\n",
       "    }\n",
       "</style>\n",
       "<table border=\"1\" class=\"dataframe\">\n",
       "  <thead>\n",
       "    <tr style=\"text-align: right;\">\n",
       "      <th></th>\n",
       "      <th>confidence_value</th>\n",
       "      <th>detection_method</th>\n",
       "      <th>a_uniprot_id</th>\n",
       "      <th>b_uniprot_id</th>\n",
       "      <th>interaction_type</th>\n",
       "      <th>pmid</th>\n",
       "      <th>a_name</th>\n",
       "      <th>a_taxid</th>\n",
       "      <th>b_name</th>\n",
       "      <th>b_taxid</th>\n",
       "    </tr>\n",
       "  </thead>\n",
       "  <tbody>\n",
       "    <tr>\n",
       "      <th>0</th>\n",
       "      <td>0.1</td>\n",
       "      <td>dm1</td>\n",
       "      <td>node_id1</td>\n",
       "      <td>node_id2</td>\n",
       "      <td>it1</td>\n",
       "      <td>pmid1</td>\n",
       "      <td>name_1</td>\n",
       "      <td>1</td>\n",
       "      <td>name_2</td>\n",
       "      <td>1</td>\n",
       "    </tr>\n",
       "    <tr>\n",
       "      <th>1</th>\n",
       "      <td>0.2</td>\n",
       "      <td>dm2</td>\n",
       "      <td>node_id2</td>\n",
       "      <td>node_id3</td>\n",
       "      <td>it2</td>\n",
       "      <td>pmid1</td>\n",
       "      <td>name_2</td>\n",
       "      <td>1</td>\n",
       "      <td>name_3</td>\n",
       "      <td>1</td>\n",
       "    </tr>\n",
       "    <tr>\n",
       "      <th>2</th>\n",
       "      <td>0.3</td>\n",
       "      <td>dm3</td>\n",
       "      <td>node_id2</td>\n",
       "      <td>node_id4</td>\n",
       "      <td>it2</td>\n",
       "      <td>pmid1</td>\n",
       "      <td>name_2</td>\n",
       "      <td>1</td>\n",
       "      <td>name_4</td>\n",
       "      <td>1</td>\n",
       "    </tr>\n",
       "    <tr>\n",
       "      <th>3</th>\n",
       "      <td>0.4</td>\n",
       "      <td>dm1</td>\n",
       "      <td>node_id2</td>\n",
       "      <td>node_id5</td>\n",
       "      <td>it2</td>\n",
       "      <td>pmid1</td>\n",
       "      <td>name_2</td>\n",
       "      <td>1</td>\n",
       "      <td>name_5</td>\n",
       "      <td>1</td>\n",
       "    </tr>\n",
       "    <tr>\n",
       "      <th>4</th>\n",
       "      <td>0.5</td>\n",
       "      <td>dm4</td>\n",
       "      <td>node_id5</td>\n",
       "      <td>node_id6</td>\n",
       "      <td>it2</td>\n",
       "      <td>pmid1</td>\n",
       "      <td>name_5</td>\n",
       "      <td>1</td>\n",
       "      <td>name_6</td>\n",
       "      <td>2</td>\n",
       "    </tr>\n",
       "    <tr>\n",
       "      <th>5</th>\n",
       "      <td>0.6</td>\n",
       "      <td>dm1</td>\n",
       "      <td>node_id2</td>\n",
       "      <td>node_id6</td>\n",
       "      <td>it3</td>\n",
       "      <td>pmid1</td>\n",
       "      <td>name_2</td>\n",
       "      <td>1</td>\n",
       "      <td>name_6</td>\n",
       "      <td>2</td>\n",
       "    </tr>\n",
       "    <tr>\n",
       "      <th>6</th>\n",
       "      <td>0.7</td>\n",
       "      <td>dm5</td>\n",
       "      <td>node_id6</td>\n",
       "      <td>node_id7</td>\n",
       "      <td>it3</td>\n",
       "      <td>pmid1</td>\n",
       "      <td>name_6</td>\n",
       "      <td>2</td>\n",
       "      <td>name_7</td>\n",
       "      <td>1</td>\n",
       "    </tr>\n",
       "    <tr>\n",
       "      <th>7</th>\n",
       "      <td>0.8</td>\n",
       "      <td>dm2</td>\n",
       "      <td>node_id2</td>\n",
       "      <td>node_id3</td>\n",
       "      <td>it3</td>\n",
       "      <td>pmid1</td>\n",
       "      <td>name_2</td>\n",
       "      <td>1</td>\n",
       "      <td>name_3</td>\n",
       "      <td>1</td>\n",
       "    </tr>\n",
       "  </tbody>\n",
       "</table>\n",
       "</div>"
      ],
      "text/plain": [
       "   confidence_value detection_method a_uniprot_id b_uniprot_id  \\\n",
       "0               0.1              dm1     node_id1     node_id2   \n",
       "1               0.2              dm2     node_id2     node_id3   \n",
       "2               0.3              dm3     node_id2     node_id4   \n",
       "3               0.4              dm1     node_id2     node_id5   \n",
       "4               0.5              dm4     node_id5     node_id6   \n",
       "5               0.6              dm1     node_id2     node_id6   \n",
       "6               0.7              dm5     node_id6     node_id7   \n",
       "7               0.8              dm2     node_id2     node_id3   \n",
       "\n",
       "  interaction_type   pmid  a_name  a_taxid  b_name  b_taxid  \n",
       "0              it1  pmid1  name_1        1  name_2        1  \n",
       "1              it2  pmid1  name_2        1  name_3        1  \n",
       "2              it2  pmid1  name_2        1  name_4        1  \n",
       "3              it2  pmid1  name_2        1  name_5        1  \n",
       "4              it2  pmid1  name_5        1  name_6        2  \n",
       "5              it3  pmid1  name_2        1  name_6        2  \n",
       "6              it3  pmid1  name_6        2  name_7        1  \n",
       "7              it3  pmid1  name_2        1  name_3        1  "
      ]
     },
     "execution_count": 7,
     "metadata": {},
     "output_type": "execute_result"
    }
   ],
   "source": [
    "# Initiate Database() class \n",
    "db = Database()\n",
    "db.set_path_to_data_file(\"../tests/data/test_ppi.tsv\")\n",
    "df = db.read_data()\n",
    "df"
   ]
  },
  {
   "cell_type": "markdown",
   "metadata": {},
   "source": [
    "### 2. Load protein DataFrame"
   ]
  },
  {
   "cell_type": "code",
   "execution_count": 8,
   "metadata": {},
   "outputs": [
    {
     "data": {
      "text/html": [
       "<div>\n",
       "<style scoped>\n",
       "    .dataframe tbody tr th:only-of-type {\n",
       "        vertical-align: middle;\n",
       "    }\n",
       "\n",
       "    .dataframe tbody tr th {\n",
       "        vertical-align: top;\n",
       "    }\n",
       "\n",
       "    .dataframe thead th {\n",
       "        text-align: right;\n",
       "    }\n",
       "</style>\n",
       "<table border=\"1\" class=\"dataframe\">\n",
       "  <thead>\n",
       "    <tr style=\"text-align: right;\">\n",
       "      <th></th>\n",
       "      <th>accession</th>\n",
       "      <th>name</th>\n",
       "      <th>taxid</th>\n",
       "    </tr>\n",
       "    <tr>\n",
       "      <th>id</th>\n",
       "      <th></th>\n",
       "      <th></th>\n",
       "      <th></th>\n",
       "    </tr>\n",
       "  </thead>\n",
       "  <tbody>\n",
       "    <tr>\n",
       "      <th>1</th>\n",
       "      <td>node_id1</td>\n",
       "      <td>name_1</td>\n",
       "      <td>1</td>\n",
       "    </tr>\n",
       "    <tr>\n",
       "      <th>2</th>\n",
       "      <td>node_id2</td>\n",
       "      <td>name_2</td>\n",
       "      <td>1</td>\n",
       "    </tr>\n",
       "    <tr>\n",
       "      <th>3</th>\n",
       "      <td>node_id3</td>\n",
       "      <td>name_3</td>\n",
       "      <td>1</td>\n",
       "    </tr>\n",
       "    <tr>\n",
       "      <th>4</th>\n",
       "      <td>node_id4</td>\n",
       "      <td>name_4</td>\n",
       "      <td>1</td>\n",
       "    </tr>\n",
       "    <tr>\n",
       "      <th>5</th>\n",
       "      <td>node_id5</td>\n",
       "      <td>name_5</td>\n",
       "      <td>1</td>\n",
       "    </tr>\n",
       "    <tr>\n",
       "      <th>6</th>\n",
       "      <td>node_id6</td>\n",
       "      <td>name_6</td>\n",
       "      <td>2</td>\n",
       "    </tr>\n",
       "    <tr>\n",
       "      <th>7</th>\n",
       "      <td>node_id7</td>\n",
       "      <td>name_7</td>\n",
       "      <td>1</td>\n",
       "    </tr>\n",
       "  </tbody>\n",
       "</table>\n",
       "</div>"
      ],
      "text/plain": [
       "   accession    name  taxid\n",
       "id                         \n",
       "1   node_id1  name_1      1\n",
       "2   node_id2  name_2      1\n",
       "3   node_id3  name_3      1\n",
       "4   node_id4  name_4      1\n",
       "5   node_id5  name_5      1\n",
       "6   node_id6  name_6      2\n",
       "7   node_id7  name_7      1"
      ]
     },
     "execution_count": 8,
     "metadata": {},
     "output_type": "execute_result"
    }
   ],
   "source": [
    "protein = db.get_proteins()\n",
    "protein"
   ]
  },
  {
   "cell_type": "markdown",
   "metadata": {},
   "source": [
    "### 3. Load interaction DataFrame"
   ]
  },
  {
   "cell_type": "code",
   "execution_count": 9,
   "metadata": {},
   "outputs": [
    {
     "data": {
      "text/html": [
       "<div>\n",
       "<style scoped>\n",
       "    .dataframe tbody tr th:only-of-type {\n",
       "        vertical-align: middle;\n",
       "    }\n",
       "\n",
       "    .dataframe tbody tr th {\n",
       "        vertical-align: top;\n",
       "    }\n",
       "\n",
       "    .dataframe thead th {\n",
       "        text-align: right;\n",
       "    }\n",
       "</style>\n",
       "<table border=\"1\" class=\"dataframe\">\n",
       "  <thead>\n",
       "    <tr style=\"text-align: right;\">\n",
       "      <th></th>\n",
       "      <th>confidence_value</th>\n",
       "      <th>detection_method</th>\n",
       "      <th>interaction_type</th>\n",
       "      <th>pmid</th>\n",
       "      <th>protein_a_id</th>\n",
       "      <th>protein_b_id</th>\n",
       "    </tr>\n",
       "    <tr>\n",
       "      <th>id</th>\n",
       "      <th></th>\n",
       "      <th></th>\n",
       "      <th></th>\n",
       "      <th></th>\n",
       "      <th></th>\n",
       "      <th></th>\n",
       "    </tr>\n",
       "  </thead>\n",
       "  <tbody>\n",
       "    <tr>\n",
       "      <th>1</th>\n",
       "      <td>0.1</td>\n",
       "      <td>dm1</td>\n",
       "      <td>it1</td>\n",
       "      <td>pmid1</td>\n",
       "      <td>1</td>\n",
       "      <td>2</td>\n",
       "    </tr>\n",
       "    <tr>\n",
       "      <th>2</th>\n",
       "      <td>0.2</td>\n",
       "      <td>dm2</td>\n",
       "      <td>it2</td>\n",
       "      <td>pmid1</td>\n",
       "      <td>2</td>\n",
       "      <td>3</td>\n",
       "    </tr>\n",
       "    <tr>\n",
       "      <th>3</th>\n",
       "      <td>0.3</td>\n",
       "      <td>dm3</td>\n",
       "      <td>it2</td>\n",
       "      <td>pmid1</td>\n",
       "      <td>2</td>\n",
       "      <td>4</td>\n",
       "    </tr>\n",
       "    <tr>\n",
       "      <th>4</th>\n",
       "      <td>0.4</td>\n",
       "      <td>dm1</td>\n",
       "      <td>it2</td>\n",
       "      <td>pmid1</td>\n",
       "      <td>2</td>\n",
       "      <td>5</td>\n",
       "    </tr>\n",
       "    <tr>\n",
       "      <th>5</th>\n",
       "      <td>0.5</td>\n",
       "      <td>dm4</td>\n",
       "      <td>it2</td>\n",
       "      <td>pmid1</td>\n",
       "      <td>5</td>\n",
       "      <td>6</td>\n",
       "    </tr>\n",
       "    <tr>\n",
       "      <th>6</th>\n",
       "      <td>0.6</td>\n",
       "      <td>dm1</td>\n",
       "      <td>it3</td>\n",
       "      <td>pmid1</td>\n",
       "      <td>2</td>\n",
       "      <td>6</td>\n",
       "    </tr>\n",
       "    <tr>\n",
       "      <th>7</th>\n",
       "      <td>0.7</td>\n",
       "      <td>dm5</td>\n",
       "      <td>it3</td>\n",
       "      <td>pmid1</td>\n",
       "      <td>6</td>\n",
       "      <td>7</td>\n",
       "    </tr>\n",
       "    <tr>\n",
       "      <th>8</th>\n",
       "      <td>0.8</td>\n",
       "      <td>dm2</td>\n",
       "      <td>it3</td>\n",
       "      <td>pmid1</td>\n",
       "      <td>2</td>\n",
       "      <td>3</td>\n",
       "    </tr>\n",
       "  </tbody>\n",
       "</table>\n",
       "</div>"
      ],
      "text/plain": [
       "    confidence_value detection_method interaction_type   pmid  protein_a_id  \\\n",
       "id                                                                            \n",
       "1                0.1              dm1              it1  pmid1             1   \n",
       "2                0.2              dm2              it2  pmid1             2   \n",
       "3                0.3              dm3              it2  pmid1             2   \n",
       "4                0.4              dm1              it2  pmid1             2   \n",
       "5                0.5              dm4              it2  pmid1             5   \n",
       "6                0.6              dm1              it3  pmid1             2   \n",
       "7                0.7              dm5              it3  pmid1             6   \n",
       "8                0.8              dm2              it3  pmid1             2   \n",
       "\n",
       "    protein_b_id  \n",
       "id                \n",
       "1              2  \n",
       "2              3  \n",
       "3              4  \n",
       "4              5  \n",
       "5              6  \n",
       "6              6  \n",
       "7              7  \n",
       "8              3  "
      ]
     },
     "execution_count": 9,
     "metadata": {},
     "output_type": "execute_result"
    }
   ],
   "source": [
    "interaction = db.get_interactions()\n",
    "interaction"
   ]
  },
  {
   "cell_type": "markdown",
   "metadata": {},
   "source": [
    "### 4. Check table name in Database()"
   ]
  },
  {
   "cell_type": "code",
   "execution_count": 10,
   "metadata": {},
   "outputs": [
    {
     "data": {
      "text/plain": [
       "['protein', 'interaction']"
      ]
     },
     "execution_count": 10,
     "metadata": {},
     "output_type": "execute_result"
    }
   ],
   "source": [
    "tables = db.get_table_names()\n",
    "tables"
   ]
  },
  {
   "cell_type": "markdown",
   "metadata": {},
   "source": [
    "### 5. Column names of protein table in SQL database"
   ]
  },
  {
   "cell_type": "code",
   "execution_count": 12,
   "metadata": {},
   "outputs": [
    {
     "data": {
      "text/plain": [
       "['accession', 'name', 'taxid', 'id']"
      ]
     },
     "execution_count": 12,
     "metadata": {},
     "output_type": "execute_result"
    }
   ],
   "source": [
    "protein_col = db.get_columns(table = \"protein\")\n",
    "protein_col"
   ]
  },
  {
   "cell_type": "markdown",
   "metadata": {},
   "source": [
    "### 6. Column names of interaction table in SQL database"
   ]
  },
  {
   "cell_type": "code",
   "execution_count": 14,
   "metadata": {},
   "outputs": [
    {
     "data": {
      "text/plain": [
       "['confidence_value',\n",
       " 'detection_method',\n",
       " 'interaction_type',\n",
       " 'pmid',\n",
       " 'protein_a_id',\n",
       " 'protein_b_id',\n",
       " 'id']"
      ]
     },
     "execution_count": 14,
     "metadata": {},
     "output_type": "execute_result"
    }
   ],
   "source": [
    "interaction_col = db.get_columns(table = \"interaction\")\n",
    "interaction_col"
   ]
  },
  {
   "cell_type": "markdown",
   "metadata": {},
   "source": [
    "### 7. Check created path of database folder and file"
   ]
  },
  {
   "cell_type": "code",
   "execution_count": 17,
   "metadata": {},
   "outputs": [
    {
     "data": {
      "text/plain": [
       "True"
      ]
     },
     "execution_count": 17,
     "metadata": {},
     "output_type": "execute_result"
    }
   ],
   "source": [
    "os.path.isdir(PROJECT_FOLDER)"
   ]
  },
  {
   "cell_type": "code",
   "execution_count": 19,
   "metadata": {},
   "outputs": [
    {
     "data": {
      "text/plain": [
       "['ppi.sqlite']"
      ]
     },
     "execution_count": 19,
     "metadata": {},
     "output_type": "execute_result"
    }
   ],
   "source": [
    "os.listdir(PROJECT_FOLDER)"
   ]
  },
  {
   "cell_type": "markdown",
   "metadata": {},
   "source": [
    "### 8. Load tables from SQL database"
   ]
  },
  {
   "cell_type": "code",
   "execution_count": 30,
   "metadata": {},
   "outputs": [
    {
     "data": {
      "text/plain": [
       "list"
      ]
     },
     "execution_count": 30,
     "metadata": {},
     "output_type": "execute_result"
    }
   ],
   "source": [
    "protein_sql = pd.read_sql_table(\"protein\",conn)\n",
    "type(protein_sql.columns.tolist())\n"
   ]
  },
  {
   "cell_type": "code",
   "execution_count": 26,
   "metadata": {},
   "outputs": [
    {
     "data": {
      "text/html": [
       "<div>\n",
       "<style scoped>\n",
       "    .dataframe tbody tr th:only-of-type {\n",
       "        vertical-align: middle;\n",
       "    }\n",
       "\n",
       "    .dataframe tbody tr th {\n",
       "        vertical-align: top;\n",
       "    }\n",
       "\n",
       "    .dataframe thead th {\n",
       "        text-align: right;\n",
       "    }\n",
       "</style>\n",
       "<table border=\"1\" class=\"dataframe\">\n",
       "  <thead>\n",
       "    <tr style=\"text-align: right;\">\n",
       "      <th></th>\n",
       "      <th>id</th>\n",
       "      <th>confidence_value</th>\n",
       "      <th>detection_method</th>\n",
       "      <th>interaction_type</th>\n",
       "      <th>pmid</th>\n",
       "      <th>protein_a_id</th>\n",
       "      <th>protein_b_id</th>\n",
       "    </tr>\n",
       "  </thead>\n",
       "  <tbody>\n",
       "    <tr>\n",
       "      <th>0</th>\n",
       "      <td>1</td>\n",
       "      <td>0.1</td>\n",
       "      <td>dm1</td>\n",
       "      <td>it1</td>\n",
       "      <td>pmid1</td>\n",
       "      <td>1</td>\n",
       "      <td>2</td>\n",
       "    </tr>\n",
       "    <tr>\n",
       "      <th>1</th>\n",
       "      <td>2</td>\n",
       "      <td>0.2</td>\n",
       "      <td>dm2</td>\n",
       "      <td>it2</td>\n",
       "      <td>pmid1</td>\n",
       "      <td>2</td>\n",
       "      <td>3</td>\n",
       "    </tr>\n",
       "    <tr>\n",
       "      <th>2</th>\n",
       "      <td>3</td>\n",
       "      <td>0.3</td>\n",
       "      <td>dm3</td>\n",
       "      <td>it2</td>\n",
       "      <td>pmid1</td>\n",
       "      <td>2</td>\n",
       "      <td>4</td>\n",
       "    </tr>\n",
       "    <tr>\n",
       "      <th>3</th>\n",
       "      <td>4</td>\n",
       "      <td>0.4</td>\n",
       "      <td>dm1</td>\n",
       "      <td>it2</td>\n",
       "      <td>pmid1</td>\n",
       "      <td>2</td>\n",
       "      <td>5</td>\n",
       "    </tr>\n",
       "    <tr>\n",
       "      <th>4</th>\n",
       "      <td>5</td>\n",
       "      <td>0.5</td>\n",
       "      <td>dm4</td>\n",
       "      <td>it2</td>\n",
       "      <td>pmid1</td>\n",
       "      <td>5</td>\n",
       "      <td>6</td>\n",
       "    </tr>\n",
       "    <tr>\n",
       "      <th>5</th>\n",
       "      <td>6</td>\n",
       "      <td>0.6</td>\n",
       "      <td>dm1</td>\n",
       "      <td>it3</td>\n",
       "      <td>pmid1</td>\n",
       "      <td>2</td>\n",
       "      <td>6</td>\n",
       "    </tr>\n",
       "    <tr>\n",
       "      <th>6</th>\n",
       "      <td>7</td>\n",
       "      <td>0.7</td>\n",
       "      <td>dm5</td>\n",
       "      <td>it3</td>\n",
       "      <td>pmid1</td>\n",
       "      <td>6</td>\n",
       "      <td>7</td>\n",
       "    </tr>\n",
       "    <tr>\n",
       "      <th>7</th>\n",
       "      <td>8</td>\n",
       "      <td>0.8</td>\n",
       "      <td>dm2</td>\n",
       "      <td>it3</td>\n",
       "      <td>pmid1</td>\n",
       "      <td>2</td>\n",
       "      <td>3</td>\n",
       "    </tr>\n",
       "  </tbody>\n",
       "</table>\n",
       "</div>"
      ],
      "text/plain": [
       "   id  confidence_value detection_method interaction_type   pmid  \\\n",
       "0   1               0.1              dm1              it1  pmid1   \n",
       "1   2               0.2              dm2              it2  pmid1   \n",
       "2   3               0.3              dm3              it2  pmid1   \n",
       "3   4               0.4              dm1              it2  pmid1   \n",
       "4   5               0.5              dm4              it2  pmid1   \n",
       "5   6               0.6              dm1              it3  pmid1   \n",
       "6   7               0.7              dm5              it3  pmid1   \n",
       "7   8               0.8              dm2              it3  pmid1   \n",
       "\n",
       "   protein_a_id  protein_b_id  \n",
       "0             1             2  \n",
       "1             2             3  \n",
       "2             2             4  \n",
       "3             2             5  \n",
       "4             5             6  \n",
       "5             2             6  \n",
       "6             6             7  \n",
       "7             2             3  "
      ]
     },
     "execution_count": 26,
     "metadata": {},
     "output_type": "execute_result"
    }
   ],
   "source": [
    "interaction_sql = pd.read_sql_table(\"interaction\",conn)\n",
    "interaction_sql"
   ]
  },
  {
   "cell_type": "code",
   "execution_count": null,
   "metadata": {},
   "outputs": [],
   "source": []
  }
 ],
 "metadata": {
  "kernelspec": {
   "display_name": ".venv",
   "language": "python",
   "name": "python3"
  },
  "language_info": {
   "codemirror_mode": {
    "name": "ipython",
    "version": 3
   },
   "file_extension": ".py",
   "mimetype": "text/x-python",
   "name": "python",
   "nbconvert_exporter": "python",
   "pygments_lexer": "ipython3",
   "version": "3.11.6"
  }
 },
 "nbformat": 4,
 "nbformat_minor": 2
}
